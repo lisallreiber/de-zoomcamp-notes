{
 "cells": [
  {
   "attachments": {},
   "cell_type": "markdown",
   "metadata": {},
   "source": [
    "# Berlin bike theft \n",
    "\n",
    "possible for parameterization: `date`, `type of theft`, `location`"
   ]
  },
  {
   "cell_type": "code",
   "execution_count": 22,
   "metadata": {},
   "outputs": [],
   "source": [
    "import os\n",
    "import pandas as pd"
   ]
  },
  {
   "cell_type": "code",
   "execution_count": 50,
   "metadata": {},
   "outputs": [],
   "source": [
    "# import data\n",
    "# !wget -O 2023-03-16_berlin-bike-theft.csv \"https://www.internetwache-polizei-berlin.de/vdb/Fahrraddiebstahl.csv\"\n",
    "# !wget -O 2023-03-17_berlin-bike-theft.csv \"https://www.internetwache-polizei-berlin.de/vdb/Fahrraddiebstahl.csv\""
   ]
  },
  {
   "attachments": {},
   "cell_type": "markdown",
   "metadata": {},
   "source": [
    "# read data"
   ]
  },
  {
   "cell_type": "code",
   "execution_count": 92,
   "metadata": {},
   "outputs": [],
   "source": [
    "# def custom_date_parser(date_str):\n",
    "#     return pd.to_datetime(date_str, format='%d.%m.%Y %H')\n",
    "\n",
    "# bike_theft_df = pd.read_csv(\n",
    "#     '2023-03-17_berlin-bike-theft.csv',\n",
    "#     encoding='latin-1',\n",
    "#     parse_dates={\n",
    "#         'ANGELEGT_DATUM'   : ['ANGELEGT_AM'],\n",
    "#         'TATZEIT_ANFANG': ['TATZEIT_ANFANG_DATUM', 'TATZEIT_ANFANG_STUNDE'], \n",
    "#         'TATZEIT_ENDE'  : ['TATZEIT_ENDE_DATUM', 'TATZEIT_ENDE_STUNDE']\n",
    "#     },\n",
    "#     date_parser=custom_date_parser)\n",
    "\n",
    "bike_theft_df = pd.read_csv(\n",
    "    'data/raw/2023-03-17_berlin-bike-theft.csv',\n",
    "    encoding='latin-1',\n",
    "    parse_dates=['ANGELEGT_AM', 'TATZEIT_ANFANG_DATUM', 'TATZEIT_ENDE_DATUM'],\n",
    "    dayfirst=True)"
   ]
  },
  {
   "attachments": {},
   "cell_type": "markdown",
   "metadata": {},
   "source": [
    "## explore"
   ]
  },
  {
   "cell_type": "code",
   "execution_count": 94,
   "metadata": {},
   "outputs": [
    {
     "name": "stdout",
     "output_type": "stream",
     "text": [
      "<class 'pandas.core.frame.DataFrame'>\n",
      "RangeIndex: 25876 entries, 0 to 25875\n",
      "Data columns (total 11 columns):\n",
      " #   Column                 Non-Null Count  Dtype         \n",
      "---  ------                 --------------  -----         \n",
      " 0   ANGELEGT_AM            25876 non-null  datetime64[ns]\n",
      " 1   TATZEIT_ANFANG_DATUM   25876 non-null  datetime64[ns]\n",
      " 2   TATZEIT_ANFANG_STUNDE  25876 non-null  int64         \n",
      " 3   TATZEIT_ENDE_DATUM     25876 non-null  datetime64[ns]\n",
      " 4   TATZEIT_ENDE_STUNDE    25876 non-null  int64         \n",
      " 5   LOR                    25876 non-null  int64         \n",
      " 6   SCHADENSHOEHE          25876 non-null  int64         \n",
      " 7   VERSUCH                25876 non-null  object        \n",
      " 8   ART_DES_FAHRRADS       25876 non-null  object        \n",
      " 9   DELIKT                 25876 non-null  object        \n",
      " 10  ERFASSUNGSGRUND        25876 non-null  object        \n",
      "dtypes: datetime64[ns](3), int64(4), object(4)\n",
      "memory usage: 2.2+ MB\n"
     ]
    }
   ],
   "source": [
    "bike_theft_df.info()\n",
    "# bike_theft_df.dtypes"
   ]
  },
  {
   "cell_type": "code",
   "execution_count": 107,
   "metadata": {},
   "outputs": [
    {
     "name": "stdout",
     "output_type": "stream",
     "text": [
      "Download Date: 2023-03-17\n",
      "Date Newest Entry: 2023-03-15\n"
     ]
    }
   ],
   "source": [
    "# get max date as date with format YYYY-MM-DD\n",
    "date_download = \"2023-03-17\"\n",
    "date_last_entry = bike_theft_df['ANGELEGT_AM'].max().date().isoformat()\n",
    "\n",
    "print(f\"Download Date: {date_download}\")\n",
    "print(f\"Date Newest Entry: {date_last_entry}\")"
   ]
  },
  {
   "attachments": {},
   "cell_type": "markdown",
   "metadata": {},
   "source": [
    "## transform"
   ]
  },
  {
   "cell_type": "code",
   "execution_count": 95,
   "metadata": {},
   "outputs": [],
   "source": [
    "# combine TATZEIT_DATUM and TATZEIT_STUNDE to create TATZEIT\n",
    "bike_theft_df['TATZEIT_ANFANG'] = bike_theft_df['TATZEIT_ANFANG_DATUM'] + pd.to_timedelta(bike_theft_df['TATZEIT_ANFANG_STUNDE'], unit='h')\n",
    "bike_theft_df['TATZEIT_ENDE'] = bike_theft_df['TATZEIT_ENDE_DATUM'] + pd.to_timedelta(bike_theft_df['TATZEIT_ENDE_STUNDE'], unit='h')\n",
    "\n",
    "# extract hour from TATZEIT_ANFANG and assign it to TATZEIT_ANFANG_STUNDE\n",
    "bike_theft_df['TATZEIT_ANFANG_STUNDE'] = bike_theft_df['TATZEIT_ANFANG'].dt.hour\n",
    "bike_theft_df['TATZEIT_ENDE_STUNDE'] = bike_theft_df['TATZEIT_ENDE'].dt.hour\n",
    "\n",
    "# generate tatzeit dauer\n",
    "bike_theft_df['TATZEIT_DAUER'] = (bike_theft_df['TATZEIT_ENDE'] - bike_theft_df['TATZEIT_ANFANG']) / pd.Timedelta(hours=1)\n"
   ]
  },
  {
   "cell_type": "code",
   "execution_count": 88,
   "metadata": {},
   "outputs": [
    {
     "data": {
      "text/html": [
       "<div>\n",
       "<style scoped>\n",
       "    .dataframe tbody tr th:only-of-type {\n",
       "        vertical-align: middle;\n",
       "    }\n",
       "\n",
       "    .dataframe tbody tr th {\n",
       "        vertical-align: top;\n",
       "    }\n",
       "\n",
       "    .dataframe thead th {\n",
       "        text-align: right;\n",
       "    }\n",
       "</style>\n",
       "<table border=\"1\" class=\"dataframe\">\n",
       "  <thead>\n",
       "    <tr style=\"text-align: right;\">\n",
       "      <th></th>\n",
       "      <th>ANGELEGT_AM</th>\n",
       "      <th>TATZEIT_ANFANG_DATUM</th>\n",
       "      <th>TATZEIT_ANFANG_STUNDE</th>\n",
       "      <th>TATZEIT_ENDE_DATUM</th>\n",
       "      <th>TATZEIT_ENDE_STUNDE</th>\n",
       "      <th>LOR</th>\n",
       "      <th>SCHADENSHOEHE</th>\n",
       "      <th>VERSUCH</th>\n",
       "      <th>ART_DES_FAHRRADS</th>\n",
       "      <th>DELIKT</th>\n",
       "      <th>ERFASSUNGSGRUND</th>\n",
       "      <th>TATZEIT_ANFANG</th>\n",
       "      <th>TATZEIT_ENDE</th>\n",
       "      <th>TATZEIT_DAUER</th>\n",
       "    </tr>\n",
       "  </thead>\n",
       "  <tbody>\n",
       "    <tr>\n",
       "      <th>0</th>\n",
       "      <td>2023-03-15</td>\n",
       "      <td>2023-03-14</td>\n",
       "      <td>9</td>\n",
       "      <td>2023-03-15</td>\n",
       "      <td>7</td>\n",
       "      <td>3701659</td>\n",
       "      <td>1200</td>\n",
       "      <td>Nein</td>\n",
       "      <td>Herrenfahrrad</td>\n",
       "      <td>Fahrraddiebstahl</td>\n",
       "      <td>Sonstiger schwerer Diebstahl von Fahrrädern</td>\n",
       "      <td>2023-03-14 09:00:00</td>\n",
       "      <td>2023-03-15 07:00:00</td>\n",
       "      <td>22.0</td>\n",
       "    </tr>\n",
       "    <tr>\n",
       "      <th>1</th>\n",
       "      <td>2023-03-15</td>\n",
       "      <td>2023-03-14</td>\n",
       "      <td>19</td>\n",
       "      <td>2023-03-15</td>\n",
       "      <td>11</td>\n",
       "      <td>9301126</td>\n",
       "      <td>3399</td>\n",
       "      <td>Nein</td>\n",
       "      <td>Damenfahrrad</td>\n",
       "      <td>Fahrraddiebstahl</td>\n",
       "      <td>Sonstiger schwerer Diebstahl von Fahrrädern</td>\n",
       "      <td>2023-03-14 19:00:00</td>\n",
       "      <td>2023-03-15 11:00:00</td>\n",
       "      <td>16.0</td>\n",
       "    </tr>\n",
       "    <tr>\n",
       "      <th>2</th>\n",
       "      <td>2023-03-15</td>\n",
       "      <td>2023-03-14</td>\n",
       "      <td>8</td>\n",
       "      <td>2023-03-14</td>\n",
       "      <td>21</td>\n",
       "      <td>12400720</td>\n",
       "      <td>699</td>\n",
       "      <td>Nein</td>\n",
       "      <td>Fahrrad</td>\n",
       "      <td>Fahrraddiebstahl</td>\n",
       "      <td>Sonstiger schwerer Diebstahl von Fahrrädern</td>\n",
       "      <td>2023-03-14 08:00:00</td>\n",
       "      <td>2023-03-14 21:00:00</td>\n",
       "      <td>13.0</td>\n",
       "    </tr>\n",
       "    <tr>\n",
       "      <th>3</th>\n",
       "      <td>2023-03-15</td>\n",
       "      <td>2023-03-15</td>\n",
       "      <td>18</td>\n",
       "      <td>2023-03-15</td>\n",
       "      <td>18</td>\n",
       "      <td>2500833</td>\n",
       "      <td>2000</td>\n",
       "      <td>Nein</td>\n",
       "      <td>Fahrrad</td>\n",
       "      <td>Fahrraddiebstahl</td>\n",
       "      <td>Sonstiger schwerer Diebstahl von Fahrrädern</td>\n",
       "      <td>2023-03-15 18:00:00</td>\n",
       "      <td>2023-03-15 18:00:00</td>\n",
       "      <td>0.0</td>\n",
       "    </tr>\n",
       "    <tr>\n",
       "      <th>4</th>\n",
       "      <td>2023-03-15</td>\n",
       "      <td>2023-03-15</td>\n",
       "      <td>17</td>\n",
       "      <td>2023-03-15</td>\n",
       "      <td>19</td>\n",
       "      <td>1100414</td>\n",
       "      <td>1169</td>\n",
       "      <td>Nein</td>\n",
       "      <td>Herrenfahrrad</td>\n",
       "      <td>Fahrraddiebstahl</td>\n",
       "      <td>Sonstiger schwerer Diebstahl von Fahrrädern</td>\n",
       "      <td>2023-03-15 17:00:00</td>\n",
       "      <td>2023-03-15 19:00:00</td>\n",
       "      <td>2.0</td>\n",
       "    </tr>\n",
       "  </tbody>\n",
       "</table>\n",
       "</div>"
      ],
      "text/plain": [
       "  ANGELEGT_AM TATZEIT_ANFANG_DATUM  TATZEIT_ANFANG_STUNDE TATZEIT_ENDE_DATUM  \\\n",
       "0  2023-03-15           2023-03-14                      9         2023-03-15   \n",
       "1  2023-03-15           2023-03-14                     19         2023-03-15   \n",
       "2  2023-03-15           2023-03-14                      8         2023-03-14   \n",
       "3  2023-03-15           2023-03-15                     18         2023-03-15   \n",
       "4  2023-03-15           2023-03-15                     17         2023-03-15   \n",
       "\n",
       "   TATZEIT_ENDE_STUNDE       LOR  SCHADENSHOEHE VERSUCH ART_DES_FAHRRADS  \\\n",
       "0                    7   3701659           1200    Nein    Herrenfahrrad   \n",
       "1                   11   9301126           3399    Nein     Damenfahrrad   \n",
       "2                   21  12400720            699    Nein          Fahrrad   \n",
       "3                   18   2500833           2000    Nein          Fahrrad   \n",
       "4                   19   1100414           1169    Nein    Herrenfahrrad   \n",
       "\n",
       "             DELIKT                              ERFASSUNGSGRUND  \\\n",
       "0  Fahrraddiebstahl  Sonstiger schwerer Diebstahl von Fahrrädern   \n",
       "1  Fahrraddiebstahl  Sonstiger schwerer Diebstahl von Fahrrädern   \n",
       "2  Fahrraddiebstahl  Sonstiger schwerer Diebstahl von Fahrrädern   \n",
       "3  Fahrraddiebstahl  Sonstiger schwerer Diebstahl von Fahrrädern   \n",
       "4  Fahrraddiebstahl  Sonstiger schwerer Diebstahl von Fahrrädern   \n",
       "\n",
       "       TATZEIT_ANFANG        TATZEIT_ENDE  TATZEIT_DAUER  \n",
       "0 2023-03-14 09:00:00 2023-03-15 07:00:00           22.0  \n",
       "1 2023-03-14 19:00:00 2023-03-15 11:00:00           16.0  \n",
       "2 2023-03-14 08:00:00 2023-03-14 21:00:00           13.0  \n",
       "3 2023-03-15 18:00:00 2023-03-15 18:00:00            0.0  \n",
       "4 2023-03-15 17:00:00 2023-03-15 19:00:00            2.0  "
      ]
     },
     "execution_count": 88,
     "metadata": {},
     "output_type": "execute_result"
    }
   ],
   "source": [
    "bike_theft_df.head()"
   ]
  },
  {
   "attachments": {},
   "cell_type": "markdown",
   "metadata": {},
   "source": [
    "## visualize"
   ]
  },
  {
   "cell_type": "code",
   "execution_count": 89,
   "metadata": {},
   "outputs": [
    {
     "data": {
      "image/png": "[encoded data removed]",
      "text/plain": [
       "<Figure size 640x480 with 1 Axes>"
      ]
     },
     "metadata": {},
     "output_type": "display_data"
    }
   ],
   "source": [
    "import matplotlib.pyplot as plt\n",
    "\n",
    "counts = bike_theft_df['ERFASSUNGSGRUND'].value_counts().sort_values(ascending=True)\n",
    "labels = [f'{s[:30]}\\n{s[30:]}' if len(s) > 30 else s for s in counts.index]\n",
    "plt.barh(labels, counts.values)\n",
    "plt.xlabel('Count')\n",
    "plt.title('Count of bike thefts by ERFASSUNGSGRUND')\n",
    "plt.show()"
   ]
  },
  {
   "attachments": {},
   "cell_type": "markdown",
   "metadata": {},
   "source": [
    "## export to pq"
   ]
  },
  {
   "cell_type": "code",
   "execution_count": null,
   "metadata": {},
   "outputs": [],
   "source": []
  }
 ],
 "metadata": {
  "kernelspec": {
   "display_name": "berlin-bike-theft-DT4ovDbW-py3.10",
   "language": "python",
   "name": "python3"
  },
  "language_info": {
   "codemirror_mode": {
    "name": "ipython",
    "version": 3
   },
   "file_extension": ".py",
   "mimetype": "text/x-python",
   "name": "python",
   "nbconvert_exporter": "python",
   "pygments_lexer": "ipython3",
   "version": "3.10.9"
  },
  "orig_nbformat": 4
 },
 "nbformat": 4,
 "nbformat_minor": 2
}
